{
 "cells": [
  {
   "cell_type": "markdown",
   "metadata": {},
   "source": [
    "## CSE-221710301066-RAGHAVENDRA"
   ]
  },
  {
   "cell_type": "code",
   "execution_count": null,
   "metadata": {},
   "outputs": [
    {
     "name": "stdout",
     "output_type": "stream",
     "text": [
      "debug pizza\n",
      "9\n",
      "❤❤❤❤❤❤❤❤❤\n"
     ]
    }
   ],
   "source": [
    "import random\n",
    "lives = 9\n",
    "words = ['hello','world', 'apple', 'pizza', 'teeth', 'puli']\n",
    "secret = random.choice(words)\n",
    "print(\"debug\", secret)\n",
    "\n",
    "clue = list('?????')\n",
    "heart_symbol = u'\\u2764'\n",
    "guessed_word= False\n",
    "\n",
    "def update_clue(guessed, secret, clue):\n",
    "  for index in secret_word: \n",
    "    if guessed == secret[index]:\n",
    "      clue[index] = guessed\n",
    "\n",
    "# print(len(secret_word))\n",
    "\n",
    "while lives > 0:\n",
    "  print(lives)\n",
    "  print (lives * heart_symbol)\n",
    "  guess = input('Guess a letter or a word')\n",
    "  lives = lives -1"
   ]
  },
  {
   "cell_type": "code",
   "execution_count": null,
   "metadata": {},
   "outputs": [],
   "source": []
  }
 ],
 "metadata": {
  "kernelspec": {
   "display_name": "Python 3",
   "language": "python",
   "name": "python3"
  },
  "language_info": {
   "codemirror_mode": {
    "name": "ipython",
    "version": 3
   },
   "file_extension": ".py",
   "mimetype": "text/x-python",
   "name": "python",
   "nbconvert_exporter": "python",
   "pygments_lexer": "ipython3",
   "version": "3.7.6"
  }
 },
 "nbformat": 4,
 "nbformat_minor": 4
}
