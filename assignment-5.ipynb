{
 "cells": [
  {
   "cell_type": "markdown",
   "metadata": {},
   "source": [
    "## CSE-221710301066-RAGHAVENDRA"
   ]
  },
  {
   "cell_type": "code",
   "execution_count": 6,
   "metadata": {},
   "outputs": [
    {
     "name": "stdout",
     "output_type": "stream",
     "text": [
      "handsomeairport86/\n",
      "enter 'y' for another password: y\n",
      "attractiveambulance60_\n",
      "enter 'y' for another password: y\n",
      "cleanbreakfast1~\n",
      "enter 'y' for another password: y\n",
      "handsomeactor76>\n",
      "enter 'y' for another password: y\n",
      "attractiveafternoon74)\n",
      "enter 'y' for another password: y\n",
      "cleanactor35@\n",
      "enter 'y' for another password: y\n",
      "beautifulairport63[\n",
      "enter 'y' for another password: y\n",
      "attractiveactor29`\n",
      "enter 'y' for another password: y\n",
      "beautifulbreakfast41!\n",
      "enter 'y' for another password: y\n",
      "beautifulairport89_\n",
      "enter 'y' for another password: nooo\n"
     ]
    }
   ],
   "source": [
    "import random \n",
    "import string\n",
    "adj=[\"bald\",'beautiful','clean','attractive','handsome']\n",
    "noun=['actor','afternoon','airport','ambulance','breakfast']\n",
    "n=\"y\"\n",
    "while n == \"y\":\n",
    "    s1=random.choice(adj)\n",
    "    s2=random.choice(noun)\n",
    "    s3=random.randint(0,100)\n",
    "    s4=string.punctuation\n",
    "    s5=random.choice(s4)\n",
    "    print(s1+s2+str(s3)+s5)\n",
    "    n=input(\"enter 'y' for another password: \")\n",
    "\n",
    "    \n",
    "\n",
    "\n",
    "\n",
    "\n",
    "\n",
    "\n",
    "\n"
   ]
  },
  {
   "cell_type": "code",
   "execution_count": null,
   "metadata": {},
   "outputs": [],
   "source": []
  }
 ],
 "metadata": {
  "kernelspec": {
   "display_name": "Python 3",
   "language": "python",
   "name": "python3"
  },
  "language_info": {
   "codemirror_mode": {
    "name": "ipython",
    "version": 3
   },
   "file_extension": ".py",
   "mimetype": "text/x-python",
   "name": "python",
   "nbconvert_exporter": "python",
   "pygments_lexer": "ipython3",
   "version": "3.7.6"
  }
 },
 "nbformat": 4,
 "nbformat_minor": 4
}
