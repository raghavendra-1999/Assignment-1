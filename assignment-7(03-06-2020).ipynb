{
 "cells": [
  {
   "cell_type": "markdown",
   "metadata": {},
   "source": [
    "## CSE-221710301066-RAGHAVENDRA"
   ]
  },
  {
   "cell_type": "code",
   "execution_count": null,
   "metadata": {},
   "outputs": [],
   "source": [
    "## Question 1:[Reverse] Copy the contents of a text file into another, printing the reversed version of each input line\n",
    "f=open(\"sample.txt\",\"r\")\n",
    "f1=open(\"copy.txt\",\"w\")\n",
    "for lines in f:\n",
    "    f1.write(lines)\n",
    "f.close()\n",
    "f1.close()"
   ]
  },
  {
   "cell_type": "code",
   "execution_count": 11,
   "metadata": {},
   "outputs": [
    {
     "name": "stdout",
     "output_type": "stream",
     "text": [
      "\n",
      "luhar olleh\n"
     ]
    }
   ],
   "source": [
    "f1=open(\"copy.txt\",\"r\")\n",
    "for lines in f1:\n",
    "    print(lines[::-1])"
   ]
  },
  {
   "cell_type": "code",
   "execution_count": 12,
   "metadata": {},
   "outputs": [
    {
     "ename": "SyntaxError",
     "evalue": "invalid syntax (<ipython-input-12-d050ba58c64f>, line 1)",
     "output_type": "error",
     "traceback": [
      "\u001b[1;36m  File \u001b[1;32m\"<ipython-input-12-d050ba58c64f>\"\u001b[1;36m, line \u001b[1;32m1\u001b[0m\n\u001b[1;33m    f=open(\"sample.txt\",\"r\") as f:\u001b[0m\n\u001b[1;37m                              ^\u001b[0m\n\u001b[1;31mSyntaxError\u001b[0m\u001b[1;31m:\u001b[0m invalid syntax\n"
     ]
    }
   ],
   "source": [
    "f=open(\"sample.txt\",\"r\") as f:\n",
    "    i=1\n",
    "    for line in f:\n",
    "        print(i,\". \",line)\n",
    "        i+=1"
   ]
  },
  {
   "cell_type": "code",
   "execution_count": 13,
   "metadata": {},
   "outputs": [
    {
     "name": "stdout",
     "output_type": "stream",
     "text": [
      "True\n",
      "[1, 2, 3, 4]\n"
     ]
    }
   ],
   "source": [
    "## Question 3:[deDuplicate] Avoiding Duplicates\n",
    "\n",
    "def duplicate(l):\n",
    "    for i in l:\n",
    "        if(l.count(i)>1):\n",
    "            return True\n",
    "            break\n",
    "        else:\n",
    "            continue\n",
    "    return False\n",
    "def removed(f):\n",
    "    for i in l:\n",
    "        if i not in li:\n",
    "            li.append(i)\n",
    "    return li\n",
    "l = [1,2,3,4,2]\n",
    "li= []\n",
    "f = (duplicate(l))\n",
    "print(f)\n",
    "if(f == True):\n",
    "    print(removed(l))"
   ]
  },
  {
   "cell_type": "code",
   "execution_count": 9,
   "metadata": {},
   "outputs": [
    {
     "name": "stdout",
     "output_type": "stream",
     "text": [
      "add is:  1110\n",
      "sub is:  -1090\n",
      "mul is:  660\n",
      "fraction is:  2.0\n"
     ]
    }
   ],
   "source": [
    "##Question 4:[fractions.py] Develop a package for fractions\n",
    "import fractions as f \n",
    "f.addition(10,100,1000)\n",
    "f.subtraction(10,100,1000)\n",
    "f.multiplication(10,66,1)\n",
    "f.frac(20,10)"
   ]
  },
  {
   "cell_type": "code",
   "execution_count": 15,
   "metadata": {},
   "outputs": [
    {
     "data": {
      "text/plain": [
       "True"
      ]
     },
     "execution_count": 15,
     "metadata": {},
     "output_type": "execute_result"
    }
   ],
   "source": [
    "## Question 5:\n",
    "[Permutations] \n",
    "def permutation(l1,l2):\n",
    "    sum1=sum(l1)\n",
    "    sum2=sum(l2)\n",
    "    if(sum1==sum2):\n",
    "        return True\n",
    "    else:\n",
    "        return False\n",
    "l1=[1,2,1]\n",
    "l2=[2,1,1]\n",
    "permutation(l1,l2)\n",
    "    \n",
    "    \n",
    "    \n",
    "    \n",
    "    \n",
    "    \n",
    "    \n",
    "    \n",
    "    \n",
    "    \n",
    "    \n",
    "    "
   ]
  },
  {
   "cell_type": "code",
   "execution_count": null,
   "metadata": {},
   "outputs": [],
   "source": []
  }
 ],
 "metadata": {
  "kernelspec": {
   "display_name": "Python 3",
   "language": "python",
   "name": "python3"
  },
  "language_info": {
   "codemirror_mode": {
    "name": "ipython",
    "version": 3
   },
   "file_extension": ".py",
   "mimetype": "text/x-python",
   "name": "python",
   "nbconvert_exporter": "python",
   "pygments_lexer": "ipython3",
   "version": "3.7.6"
  }
 },
 "nbformat": 4,
 "nbformat_minor": 4
}
